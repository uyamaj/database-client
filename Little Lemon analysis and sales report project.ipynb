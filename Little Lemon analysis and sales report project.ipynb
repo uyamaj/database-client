{
 "cells": [
  {
   "cell_type": "code",
   "execution_count": 1,
   "id": "ab818e47",
   "metadata": {
    "scrolled": true
   },
   "outputs": [
    {
     "name": "stdout",
     "output_type": "stream",
     "text": [
      "Collecting mysql-connector-python\n",
      "  Downloading mysql_connector_python-8.4.0-cp311-cp311-win_amd64.whl (14.5 MB)\n",
      "                                              0.0/14.5 MB ? eta -:--:--\n",
      "                                              0.0/14.5 MB 1.3 MB/s eta 0:00:12\n",
      "                                              0.0/14.5 MB 1.3 MB/s eta 0:00:12\n",
      "                                              0.0/14.5 MB 1.3 MB/s eta 0:00:12\n",
      "                                              0.0/14.5 MB 1.3 MB/s eta 0:00:12\n",
      "                                             0.1/14.5 MB 467.6 kB/s eta 0:00:31\n",
      "                                             0.1/14.5 MB 467.6 kB/s eta 0:00:31\n",
      "                                             0.1/14.5 MB 467.6 kB/s eta 0:00:31\n",
      "                                             0.1/14.5 MB 300.4 kB/s eta 0:00:48\n",
      "                                             0.2/14.5 MB 553.5 kB/s eta 0:00:26\n",
      "                                             0.2/14.5 MB 553.5 kB/s eta 0:00:26\n",
      "                                             0.2/14.5 MB 553.5 kB/s eta 0:00:26\n",
      "                                             0.2/14.5 MB 553.5 kB/s eta 0:00:26\n",
      "     -                                       0.5/14.5 MB 786.4 kB/s eta 0:00:18\n",
      "     -                                       0.5/14.5 MB 786.4 kB/s eta 0:00:18\n",
      "     -                                       0.5/14.5 MB 786.4 kB/s eta 0:00:18\n",
      "     -                                       0.5/14.5 MB 786.4 kB/s eta 0:00:18\n",
      "     --                                       0.9/14.5 MB 1.1 MB/s eta 0:00:13\n",
      "     --                                       1.0/14.5 MB 1.2 MB/s eta 0:00:12\n",
      "     --                                       1.0/14.5 MB 1.2 MB/s eta 0:00:12\n",
      "     ---                                      1.2/14.5 MB 1.2 MB/s eta 0:00:12\n",
      "     ----                                     1.5/14.5 MB 1.4 MB/s eta 0:00:09\n",
      "     ----                                     1.5/14.5 MB 1.5 MB/s eta 0:00:09\n",
      "     ----                                     1.6/14.5 MB 1.4 MB/s eta 0:00:09\n",
      "     -----                                    1.8/14.5 MB 1.6 MB/s eta 0:00:09\n",
      "     -----                                    2.1/14.5 MB 1.7 MB/s eta 0:00:08\n",
      "     -------                                  2.6/14.5 MB 2.1 MB/s eta 0:00:06\n",
      "     --------                                 3.0/14.5 MB 2.2 MB/s eta 0:00:06\n",
      "     --------                                 3.2/14.5 MB 2.3 MB/s eta 0:00:05\n",
      "     ----------                               3.8/14.5 MB 2.7 MB/s eta 0:00:05\n",
      "     -----------                              4.2/14.5 MB 2.9 MB/s eta 0:00:04\n",
      "     -------------                            4.9/14.5 MB 3.2 MB/s eta 0:00:03\n",
      "     ---------------                          5.5/14.5 MB 3.5 MB/s eta 0:00:03\n",
      "     -----------------                        6.2/14.5 MB 3.8 MB/s eta 0:00:03\n",
      "     ------------------                       6.9/14.5 MB 4.1 MB/s eta 0:00:02\n",
      "     --------------------                     7.5/14.5 MB 4.4 MB/s eta 0:00:02\n",
      "     ----------------------                   8.1/14.5 MB 4.6 MB/s eta 0:00:02\n",
      "     -----------------------                  8.6/14.5 MB 4.8 MB/s eta 0:00:02\n",
      "     -------------------------                9.1/14.5 MB 4.9 MB/s eta 0:00:02\n",
      "     ---------------------------              9.8/14.5 MB 5.1 MB/s eta 0:00:01\n",
      "     ----------------------------             10.4/14.5 MB 6.6 MB/s eta 0:00:01\n",
      "     ------------------------------           11.1/14.5 MB 8.7 MB/s eta 0:00:01\n",
      "     -------------------------------         11.7/14.5 MB 10.1 MB/s eta 0:00:01\n",
      "     ---------------------------------       12.3/14.5 MB 11.7 MB/s eta 0:00:01\n",
      "     -----------------------------------     13.1/14.5 MB 12.1 MB/s eta 0:00:01\n",
      "     ------------------------------------    13.7/14.5 MB 12.6 MB/s eta 0:00:01\n",
      "     --------------------------------------  14.4/14.5 MB 12.8 MB/s eta 0:00:01\n",
      "     --------------------------------------  14.4/14.5 MB 12.8 MB/s eta 0:00:01\n",
      "     --------------------------------------  14.4/14.5 MB 12.8 MB/s eta 0:00:01\n",
      "     --------------------------------------- 14.5/14.5 MB 11.1 MB/s eta 0:00:00\n",
      "Installing collected packages: mysql-connector-python\n",
      "Successfully installed mysql-connector-python-8.4.0\n"
     ]
    }
   ],
   "source": [
    "!pip install mysql-connector-python"
   ]
  },
  {
   "cell_type": "code",
   "execution_count": 6,
   "id": "bf17228d",
   "metadata": {},
   "outputs": [],
   "source": [
    "import mysql.connector as connector"
   ]
  },
  {
   "cell_type": "code",
   "execution_count": 7,
   "id": "af8ca8df",
   "metadata": {},
   "outputs": [],
   "source": [
    "connection = connector.connect(user=\"root\", password=\"mysqluje\")"
   ]
  },
  {
   "cell_type": "code",
   "execution_count": 9,
   "id": "4f646fac",
   "metadata": {},
   "outputs": [
    {
     "name": "stdout",
     "output_type": "stream",
     "text": [
      "Cursor is created to communicate with the MySQL using Python.\n"
     ]
    }
   ],
   "source": [
    "cursor=connection.cursor()\n",
    "print(\"Cursor is created to communicate with the MySQL using Python.\")"
   ]
  },
  {
   "cell_type": "code",
   "execution_count": null,
   "id": "91fc5e7e",
   "metadata": {},
   "outputs": [],
   "source": [
    "create_database_query=\"\"\"CREATE DATABASE little_lemon\"\"\""
   ]
  },
  {
   "cell_type": "code",
   "execution_count": null,
   "id": "f335d181",
   "metadata": {},
   "outputs": [],
   "source": [
    "#cursor.execute(create_database_query)"
   ]
  },
  {
   "cell_type": "code",
   "execution_count": 137,
   "id": "65c0792d",
   "metadata": {},
   "outputs": [],
   "source": [
    "use_database_query=\"\"\"USE little_lemon\"\"\""
   ]
  },
  {
   "cell_type": "code",
   "execution_count": 138,
   "id": "685737e7",
   "metadata": {},
   "outputs": [],
   "source": [
    "cursor.execute(use_database_query)"
   ]
  },
  {
   "cell_type": "code",
   "execution_count": 140,
   "id": "dbbaebde",
   "metadata": {},
   "outputs": [],
   "source": [
    "create_menuitem_table=\"\"\"\n",
    "CREATE TABLE MenuItems(\n",
    "ItemID INT AUTO_INCREMENT,\n",
    "Name VARCHAR(200),\n",
    "Type VARCHAR(100),\n",
    "Price INT,\n",
    "PRIMARY KEY(ItemID)\n",
    ")\n",
    "\"\"\""
   ]
  },
  {
   "cell_type": "code",
   "execution_count": 142,
   "id": "7f3f9a11",
   "metadata": {},
   "outputs": [],
   "source": [
    "#cursor.execute(create_menuitem_table)"
   ]
  },
  {
   "cell_type": "code",
   "execution_count": null,
   "id": "f47cf3d6",
   "metadata": {},
   "outputs": [],
   "source": []
  },
  {
   "cell_type": "code",
   "execution_count": null,
   "id": "5ed2c350",
   "metadata": {},
   "outputs": [],
   "source": [
    "#cursor.execute(\"SHOW TABLES\")\n",
    "#for table in cursor:\n",
    " #   print(table)"
   ]
  },
  {
   "cell_type": "code",
   "execution_count": 119,
   "id": "2f1c1d0c",
   "metadata": {},
   "outputs": [],
   "source": [
    "#creating menu table\n",
    "create_menu_table = \"\"\"CREATE TABLE Menus (\n",
    "MenuID INT,\n",
    "ItemID INT,\n",
    "Cuisine VARCHAR(100),\n",
    "PRIMARY KEY (MenuID,ItemID)\n",
    ");\"\"\""
   ]
  },
  {
   "cell_type": "code",
   "execution_count": 120,
   "id": "d1b0316d",
   "metadata": {},
   "outputs": [],
   "source": [
    "cursor.execute(create_menu_table)"
   ]
  },
  {
   "cell_type": "code",
   "execution_count": 86,
   "id": "33955eca",
   "metadata": {},
   "outputs": [],
   "source": [
    "#creating orders table\n",
    "create_orders_table = \"\"\"CREATE TABLE Orders (\n",
    "OrderID INT,\n",
    "TableNo INT,\n",
    "MenuID INT,\n",
    "BookingID INT,\n",
    "BillAmount INT,\n",
    "Quantity INT,\n",
    "PRIMARY KEY (OrderID,TableNo)\n",
    ");\"\"\""
   ]
  },
  {
   "cell_type": "code",
   "execution_count": 108,
   "id": "469666d1",
   "metadata": {},
   "outputs": [],
   "source": [
    "cursor.execute(create_orders_table)"
   ]
  },
  {
   "cell_type": "code",
   "execution_count": 109,
   "id": "e7f95578",
   "metadata": {},
   "outputs": [],
   "source": [
    "create_bookings_table = \"\"\"CREATE TABLE Bookings (\n",
    "BookingID INT AUTO_INCREMENT,\n",
    "TableNo INT,\n",
    "GuestFirstName VARCHAR(100),\n",
    "GuestLastName VARCHAR(100),\n",
    "BookingSlot TIME,\n",
    "EmployeeID INT,\n",
    "PRIMARY KEY (BookingID)\n",
    ");\"\"\""
   ]
  },
  {
   "cell_type": "code",
   "execution_count": 32,
   "id": "40601b19",
   "metadata": {},
   "outputs": [],
   "source": [
    "cursor.execute(create_bookings_table)"
   ]
  },
  {
   "cell_type": "code",
   "execution_count": 48,
   "id": "94c40600",
   "metadata": {},
   "outputs": [],
   "source": [
    "create_employees_table = \"\"\"CREATE TABLE Employees (\n",
    "EmployeeID INT AUTO_INCREMENT PRIMARY KEY,\n",
    "Name VARCHAR (200),\n",
    "Role VARCHAR(100),\n",
    "Address VARCHAR (200),\n",
    "Contact_Number INT,\n",
    "Email VARCHAR(100),\n",
    "Annual_Salary VARCHAR(100)\n",
    ");\"\"\""
   ]
  },
  {
   "cell_type": "code",
   "execution_count": 49,
   "id": "fb41ed5e",
   "metadata": {},
   "outputs": [],
   "source": [
    "cursor.execute(create_employees_table)"
   ]
  },
  {
   "cell_type": "code",
   "execution_count": null,
   "id": "4decd10f",
   "metadata": {},
   "outputs": [],
   "source": [
    "### Next we insert data into the tables created"
   ]
  },
  {
   "cell_type": "code",
   "execution_count": 144,
   "id": "1e763551",
   "metadata": {},
   "outputs": [],
   "source": [
    "insert_menuitems=\"\"\"\n",
    "INSERT INTO MenuItems (ItemID, Name, Type, Price)\n",
    "VALUES\n",
    "(1, 'Olives','Starters',5),\n",
    "(2, 'Flatbread','Starters', 5),\n",
    "(3, 'Minestrone', 'Starters', 8),\n",
    "(4, 'Tomato bread','Starters', 8),\n",
    "(5, 'Falafel', 'Starters', 7),\n",
    "(6, 'Hummus', 'Starters', 5),\n",
    "(7, 'Greek salad', 'Main Courses', 15),\n",
    "(8, 'Bean soup', 'Main Courses', 12),\n",
    "(9, 'Pizza', 'Main Courses', 15),\n",
    "(10, 'Greek yoghurt','Desserts', 7),\n",
    "(11, 'Ice cream', 'Desserts', 6),\n",
    "(12, 'Cheesecake', 'Desserts', 4),\n",
    "(13, 'Athens White wine', 'Drinks', 25),\n",
    "(14, 'Corfu Red Wine', 'Drinks', 30),\n",
    "(15, 'Turkish Coffee', 'Drinks', 10),\n",
    "(16, 'Turkish Coffee', 'Drinks', 10),\n",
    "(17, 'Kabasa', 'Main Courses', 17);\"\"\""
   ]
  },
  {
   "cell_type": "code",
   "execution_count": 154,
   "id": "530fa5fd",
   "metadata": {},
   "outputs": [],
   "source": [
    "# Populate MenuItems table\n",
    "#cursor.execute(insert_menuitems)\n",
    "#connection.commit()"
   ]
  },
  {
   "cell_type": "code",
   "execution_count": 121,
   "id": "2139a009",
   "metadata": {},
   "outputs": [],
   "source": [
    "insert_menu=\"\"\"\n",
    "INSERT INTO Menus (MenuID,ItemID,Cuisine)\n",
    "VALUES\n",
    "(1, 1, 'Greek'),\n",
    "(1, 7, 'Greek'),\n",
    "(1, 10, 'Greek'),\n",
    "(1, 13, 'Greek'),\n",
    "(2, 3, 'Italian'),\n",
    "(2, 9, 'Italian'),\n",
    "(2, 12, 'Italian'),\n",
    "(2, 15, 'Italian'),\n",
    "(3, 5, 'Turkish'),\n",
    "(3, 17, 'Turkish'),\n",
    "(3, 11, 'Turkish'),\n",
    "(3, 16, 'Turkish');\"\"\""
   ]
  },
  {
   "cell_type": "code",
   "execution_count": 122,
   "id": "3a7598db",
   "metadata": {},
   "outputs": [
    {
     "name": "stdout",
     "output_type": "stream",
     "text": [
      "Total number of rows in Menu table: 12\n",
      "\n"
     ]
    },
    {
     "ename": "AttributeError",
     "evalue": "'NoneType' object has no attribute 'commit'",
     "output_type": "error",
     "traceback": [
      "\u001b[1;31m---------------------------------------------------------------------------\u001b[0m",
      "\u001b[1;31mAttributeError\u001b[0m                            Traceback (most recent call last)",
      "Cell \u001b[1;32mIn[122], line 4\u001b[0m\n\u001b[0;32m      2\u001b[0m cursor\u001b[38;5;241m.\u001b[39mexecute(insert_menu)\n\u001b[0;32m      3\u001b[0m \u001b[38;5;28mprint\u001b[39m(\u001b[38;5;124m\"\u001b[39m\u001b[38;5;124mTotal number of rows in Menu table: \u001b[39m\u001b[38;5;132;01m{}\u001b[39;00m\u001b[38;5;130;01m\\n\u001b[39;00m\u001b[38;5;124m\"\u001b[39m\u001b[38;5;241m.\u001b[39mformat(cursor\u001b[38;5;241m.\u001b[39mrowcount))\n\u001b[1;32m----> 4\u001b[0m \u001b[43mconnection\u001b[49m\u001b[38;5;241;43m.\u001b[39;49m\u001b[43mcommit\u001b[49m()\n",
      "File \u001b[1;32m~\\miniconda3\\lib\\site-packages\\mysql\\connector\\pooling.py:364\u001b[0m, in \u001b[0;36mPooledMySQLConnection.__getattr__\u001b[1;34m(self, attr)\u001b[0m\n\u001b[0;32m    362\u001b[0m \u001b[38;5;28;01mdef\u001b[39;00m \u001b[38;5;21m__getattr__\u001b[39m(\u001b[38;5;28mself\u001b[39m, attr: Any) \u001b[38;5;241m-\u001b[39m\u001b[38;5;241m>\u001b[39m Any:\n\u001b[0;32m    363\u001b[0m     \u001b[38;5;124;03m\"\"\"Calls attributes of the MySQLConnection instance\"\"\"\u001b[39;00m\n\u001b[1;32m--> 364\u001b[0m     \u001b[38;5;28;01mreturn\u001b[39;00m \u001b[38;5;28;43mgetattr\u001b[39;49m\u001b[43m(\u001b[49m\u001b[38;5;28;43mself\u001b[39;49m\u001b[38;5;241;43m.\u001b[39;49m\u001b[43m_cnx\u001b[49m\u001b[43m,\u001b[49m\u001b[43m \u001b[49m\u001b[43mattr\u001b[49m\u001b[43m)\u001b[49m\n",
      "\u001b[1;31mAttributeError\u001b[0m: 'NoneType' object has no attribute 'commit'"
     ]
    }
   ],
   "source": [
    "\n",
    "# Populate Menu table\n",
    "cursor.execute(insert_menu)\n",
    "print(\"Total number of rows in Menu table: {}\\n\".format(cursor.rowcount))\n",
    "connection.commit()"
   ]
  },
  {
   "cell_type": "code",
   "execution_count": 35,
   "id": "d73b0009",
   "metadata": {},
   "outputs": [],
   "source": [
    "insert_bookings=\"\"\"\n",
    "INSERT INTO Bookings (BookingID, TableNo, GuestFirstName, \n",
    "GuestLastName, BookingSlot, EmployeeID)\n",
    "VALUES\n",
    "(1, 12, 'Anna','Iversen','19:00:00',1),\n",
    "(2, 12, 'Joakim', 'Iversen', '19:00:00', 1),\n",
    "(3, 19, 'Vanessa', 'McCarthy', '15:00:00', 3),\n",
    "(4, 15, 'Marcos', 'Romero', '17:30:00', 4),\n",
    "(5, 5, 'Hiroki', 'Yamane', '18:30:00', 2),\n",
    "(6, 8, 'Diana', 'Pinto', '20:00:00', 5);\"\"\""
   ]
  },
  {
   "cell_type": "code",
   "execution_count": 153,
   "id": "1f74adc3",
   "metadata": {},
   "outputs": [],
   "source": [
    "# Populate Bookings table\n",
    "#cursor.execute(insert_bookings)\n",
    "#connection.commit()"
   ]
  },
  {
   "cell_type": "code",
   "execution_count": 97,
   "id": "7fd4cada",
   "metadata": {},
   "outputs": [],
   "source": [
    "insert_orders=\"\"\"\n",
    "INSERT INTO Orders (OrderID, TableNo, MenuID, BookingID, Quantity, BillAmount)\n",
    "VALUES\n",
    "(1, 12, 1, 1, 2, 86),\n",
    "(2, 19, 2, 2, 1, 37),\n",
    "(3, 15, 2, 3, 1, 37),\n",
    "(4, 5, 3, 4, 1, 40),\n",
    "(5, 8, 1, 5, 1, 43);\"\"\"\n"
   ]
  },
  {
   "cell_type": "code",
   "execution_count": 148,
   "id": "5ff6e5ab",
   "metadata": {},
   "outputs": [],
   "source": [
    "# Populate Orders table\n",
    "#cursor.execute(insert_orders)\n",
    "#print(\"Total number of rows in the Orders table: \", cursor.rowcount)\n",
    "connection.commit()\n"
   ]
  },
  {
   "cell_type": "code",
   "execution_count": 95,
   "id": "a84250b9",
   "metadata": {},
   "outputs": [],
   "source": [
    "insert_employees=\"\"\"\n",
    "INSERT INTO employees (EmployeeID, Name, Role, Address, Contact_Number, Email, Annual_Salary)\n",
    "VALUES\n",
    "(01,'Mario Gollini','Manager','724 Parsley Lane, Old Town, Chicago, IL',351258074,'Mario.g@littlelemon.com',70000),\n",
    "(02,'Adrian Gollini','Assistant Manager','334, Dill Square, Lincoln Park, Chicago, IL',351474048,'Adrian.g@littlelemon.com',65000),\n",
    "(03,'Giorgos Dioudis','Head Chef','879 Sage Street, West Loop, Chicago, IL',351970582,'Giorgos.d@littlelemon.com',50000),\n",
    "(04,'Fatma Kaya','Assistant Chef','132  Bay Lane, Chicago, IL',351963569,'Fatma.k@littlelemon.com',45000),\n",
    "(05,'Elena Salvai','Head Waiter','989 Thyme Square, EdgeWater, Chicago, IL',351074198,'Elena.s@littlelemon.com',40000),\n",
    "(06,'John Millar','Receptionist','245 Dill Square, Lincoln Park, Chicago, IL',351584508,'John.m@littlelemon.com',35000);\"\"\""
   ]
  },
  {
   "cell_type": "code",
   "execution_count": 151,
   "id": "65f454a1",
   "metadata": {},
   "outputs": [],
   "source": [
    "# Populate Employees table\n",
    "#cursor.execute(insert_employees)\n",
    "#print(\"Total number of rows in the Employees table: \", cursor.rowcount)\n",
    "#connection.commit()"
   ]
  },
  {
   "cell_type": "markdown",
   "id": "6b2a6855",
   "metadata": {},
   "source": [
    "### Creating a pool with two connections"
   ]
  },
  {
   "cell_type": "code",
   "execution_count": 21,
   "id": "0cf107b0",
   "metadata": {},
   "outputs": [],
   "source": [
    "from mysql.connector.pooling import MySQLConnectionPool\n",
    "from mysql.connector import Error"
   ]
  },
  {
   "cell_type": "code",
   "execution_count": 22,
   "id": "8ddf6ffd",
   "metadata": {},
   "outputs": [
    {
     "name": "stdout",
     "output_type": "stream",
     "text": [
      "The connection pool is created with a name: pool_a\n",
      "The pool size is: 2\n"
     ]
    }
   ],
   "source": [
    "dbconfig={\n",
    "  \"database\":\"little_lemon_db\",\n",
    "  \"user\":\"root\",\n",
    "    \"password\": \"mysqluje\"\n",
    "} \n",
    "\n",
    "try:\n",
    "    pool = MySQLConnectionPool(pool_name=\"pool_a\",\n",
    "                          pool_size = 2,\n",
    "                          **dbconfig)\n",
    "    print(\"The connection pool is created with a name:\",pool.pool_name)\n",
    "    print(\"The pool size is:\", pool.pool_size)\n",
    "    \n",
    "except Error as er:\n",
    "    print(\"Error code:\", er.errno)\n",
    "    print(\"Error message:\", er.msg)\n",
    "    "
   ]
  },
  {
   "cell_type": "code",
   "execution_count": null,
   "id": "9114750a",
   "metadata": {},
   "outputs": [],
   "source": [
    "#Obtaining a connection from pool_a and creating a cursor object"
   ]
  },
  {
   "cell_type": "code",
   "execution_count": 23,
   "id": "fc18df73",
   "metadata": {},
   "outputs": [
    {
     "name": "stdout",
     "output_type": "stream",
     "text": [
      "Getting a connection from the pool.\n",
      "Creating a cursor object.\n"
     ]
    }
   ],
   "source": [
    "print(\"Getting a connection from the pool.\")\n",
    "connection1 = pool.get_connection()\n",
    "\n",
    "print(\"Creating a cursor object.\")\n",
    "cursor= connection1.cursor()"
   ]
  },
  {
   "cell_type": "markdown",
   "id": "e4e2ffc5",
   "metadata": {},
   "source": [
    "### Implementing a stored procedure called PeakHours"
   ]
  },
  {
   "cell_type": "code",
   "execution_count": 45,
   "id": "8323b502",
   "metadata": {},
   "outputs": [
    {
     "name": "stdout",
     "output_type": "stream",
     "text": [
      "['n_bookings', 'booking_hour']\n",
      "(2, 19)\n",
      "(1, 15)\n",
      "(1, 17)\n",
      "(1, 18)\n",
      "(1, 20)\n"
     ]
    }
   ],
   "source": [
    "#cursor.execute(\"DROP PROCEDURE IF EXISTS Peak_Hours;\")\n",
    "stored_procedure_query=\"\"\"\n",
    "CREATE PROCEDURE peak_hrs()\n",
    "\n",
    "BEGIN\n",
    "\n",
    "SELECT\n",
    "\n",
    "COUNT(HOUR(BookingSlot)) as n_bookings,\n",
    "HOUR(BookingSlot) as booking_hour\n",
    "from Bookings\n",
    "GROUP BY booking_hour\n",
    "ORDER BY n_bookings DESC;\n",
    "\n",
    "END\n",
    "\n",
    "\"\"\"\n",
    "\n",
    "\n",
    "#Execute the query\n",
    "cursor.execute(stored_procedure_query)\n",
    "\n",
    "#Call the stored procedure with its name\n",
    "cursor.callproc(\"peak_hrs\")\n",
    "\n",
    "#Fetch records in \"dataset\"\n",
    "results = next(cursor.stored_results())\n",
    "dataset = results.fetchall()\n",
    "\n",
    "#Fetch column names using list comprehension in a 'for' loop\n",
    "for column_id in cursor.stored_results():\n",
    "    columns= [column[0]for column in column_id.description]\n",
    "\n",
    "#print column names\n",
    "print(columns)\n",
    "\n",
    "#print data\n",
    "for data in dataset:\n",
    "    print(data)"
   ]
  },
  {
   "cell_type": "markdown",
   "id": "5f380618",
   "metadata": {},
   "source": [
    "### Implement a stored procedure GuestStatus"
   ]
  },
  {
   "cell_type": "code",
   "execution_count": 56,
   "id": "7186924d",
   "metadata": {},
   "outputs": [
    {
     "name": "stdout",
     "output_type": "stream",
     "text": [
      "['BookingID', 'Customer_name', 'Employee', 'GuestStatus']\n",
      "(1, 'Anna Iversen', 'Manager', 'Ready to Pay')\n",
      "(2, 'Joakim Iversen', 'Manager', 'Ready to Pay')\n",
      "(3, 'Vanessa McCarthy', 'Head Chef', 'Ready to serve')\n",
      "(4, 'Marcos Romero', 'Assistant Chef', 'Preparing order')\n",
      "(5, 'Hiroki Yamane', 'Assistant Manager', 'Ready to Pay')\n",
      "(6, 'Diana Pinto', 'Head Waiter', 'Order served')\n"
     ]
    }
   ],
   "source": [
    "stored_procedure_query=\"\"\"\n",
    "CREATE PROCEDURE GuestStatus()\n",
    "\n",
    "BEGIN\n",
    "\n",
    "SELECT BookingID,\n",
    "CONCAT(GuestFirstname,' ',GuestLastname) as Customer_name,\n",
    " \n",
    "\n",
    "Role as Employee,\n",
    "\n",
    "CASE\n",
    "\n",
    "WHEN Role IN ('Manager','Assistant Manager') THEN \"Ready to Pay\"\n",
    "WHEN Role = 'Head Chef' THEN \"Ready to serve\"\n",
    "WHEN Role = 'Assistant Chef' THEN \"Preparing order\"\n",
    "WHEN Role = 'Head Waiter' THEN \"Order served\"\n",
    "\n",
    "ELSE \"Pending\"\n",
    "END AS GuestStatus\n",
    "\n",
    "\n",
    "\n",
    "FROM bookings \n",
    "LEFT JOIN \n",
    "Employees \n",
    "ON Employees.EmployeeID=Bookings.EmployeeID;\n",
    "END\n",
    "\n",
    "\"\"\"\n",
    "\n",
    "#WHEN employeeID IN (3) THEN \"Ready to serve\"\n",
    "#WHEN employeeID IN (4)THEN \"Preparing Order\"\n",
    "#WHEN employeeID IN (5) THEN \"Order served\"\n",
    "#ELSE \"In Queue\"\n",
    "#END AS GuestStatus\n",
    "\n",
    "#Execute the query\n",
    "cursor.execute(stored_procedure_query)\n",
    "\n",
    "#Call the stored procedure with its name\n",
    "cursor.callproc(\"GuestStatus\")\n",
    "\n",
    "#Fetch records in \"dataset\"\n",
    "results = next(cursor.stored_results())\n",
    "dataset = results.fetchall()\n",
    "\n",
    "#Fetch column names using list comprehension in a 'for' loop\n",
    "for column_id in cursor.stored_results():\n",
    "    columns= [column[0]for column in column_id.description]\n",
    "\n",
    "#print column names\n",
    "print(columns)\n",
    "\n",
    "#print data\n",
    "for data in dataset:\n",
    "    print(data)"
   ]
  },
  {
   "cell_type": "code",
   "execution_count": 70,
   "id": "a8124f58",
   "metadata": {},
   "outputs": [
    {
     "name": "stdout",
     "output_type": "stream",
     "text": [
      "The connection pool is created with a name: pool_a\n",
      "The pool size is: 4\n"
     ]
    }
   ],
   "source": [
    "from mysql.connector.pooling import MySQLConnectionPool\n",
    "from mysql.connector import Error\n",
    "\n",
    "dbconfig={\n",
    "  \"database\":\"little_lemon_db\",\n",
    "  \"user\":\"root\",\n",
    "    \"password\": \"mysqluje\"\n",
    "} \n",
    "\n",
    "try:\n",
    "    pool = MySQLConnectionPool(pool_name=\"pool_a\",\n",
    "                          pool_size = 4,\n",
    "                          **dbconfig)\n",
    "    print(\"The connection pool is created with a name:\",pool.pool_name)\n",
    "    print(\"The pool size is:\", pool.pool_size)\n",
    "    \n",
    "except Error as er:\n",
    "    print(\"Error code:\", er.errno)\n",
    "    print(\"Error message:\", er.msg)\n",
    "    "
   ]
  },
  {
   "cell_type": "markdown",
   "id": "85bc0d7d",
   "metadata": {},
   "source": [
    "### Little Lemon Analysis and Sales Report"
   ]
  },
  {
   "cell_type": "code",
   "execution_count": 60,
   "id": "e1fd36e5",
   "metadata": {},
   "outputs": [
    {
     "name": "stdout",
     "output_type": "stream",
     "text": [
      "Getting a connection from the pool.\n",
      "Creating a cursor object.\n"
     ]
    }
   ],
   "source": [
    "#obtaining a connection pool and creating a cursor object\n",
    "print(\"Getting a connection from the pool.\")\n",
    "connection1 = pool.get_connection()\n",
    "\n",
    "print(\"Creating a cursor object.\")\n",
    "cursor= connection1.cursor()\n"
   ]
  },
  {
   "cell_type": "markdown",
   "id": "2583ad31",
   "metadata": {},
   "source": [
    "#### Booking dinner slots for three guests when the pool size is 2"
   ]
  },
  {
   "cell_type": "code",
   "execution_count": 61,
   "id": "45b4a2cd",
   "metadata": {},
   "outputs": [
    {
     "name": "stdout",
     "output_type": "stream",
     "text": [
      "A new booking is added in the \"Bookings\" table.\n"
     ]
    }
   ],
   "source": [
    "# To connect the first guest, we write the following code:\n",
    "connection1 = pool.get_connection()\n",
    "cursor1=connection1.cursor()\n",
    "booking1=\"\"\"INSERT INTO Bookings \n",
    "(TableNo, GuestFirstName, GuestLastName, BookingSlot, EmployeeID)\n",
    "VALUES\n",
    "(8,'Anees','Java','18:00:00',6);\"\"\"\n",
    "cursor1.execute(booking1)\n",
    "connection1.commit()\n",
    "print(\"\"\"A new booking is added in the \"Bookings\" table.\"\"\")"
   ]
  },
  {
   "cell_type": "code",
   "execution_count": 64,
   "id": "2dbf7844",
   "metadata": {},
   "outputs": [
    {
     "name": "stdout",
     "output_type": "stream",
     "text": [
      "A new booking is added in the \"Bookings\" table.\n"
     ]
    }
   ],
   "source": [
    "# To connect the second guest, we write the following code\n",
    "connection2 = pool.get_connection()\n",
    "cursor2=connection2.cursor()\n",
    "booking2=\"\"\"INSERT INTO Bookings \n",
    "(TableNo, GuestFirstName, GuestLastName, BookingSlot, EmployeeID)\n",
    "VALUES\n",
    "(5, 'Bald','Vin','19:00:00',6);\"\"\"\n",
    "cursor2.execute(booking2)\n",
    "connection2.commit()\n",
    "print(\"\"\"A new booking is added in the \"Bookings\" table.\"\"\")"
   ]
  },
  {
   "cell_type": "code",
   "execution_count": null,
   "id": "abd79841",
   "metadata": {},
   "outputs": [],
   "source": [
    "#This gives an PoolError: Failed getting connection; pool exhausted.\n",
    "#So we use try-except to print the error message)  \n",
    "\n",
    " "
   ]
  },
  {
   "cell_type": "code",
   "execution_count": 66,
   "id": "6f48f513",
   "metadata": {},
   "outputs": [
    {
     "name": "stdout",
     "output_type": "stream",
     "text": [
      "The third guest is connected\n"
     ]
    }
   ],
   "source": [
    "# To connect the third user.\n",
    "import mysql.connector as connector\n",
    "try:\n",
    "    connection3 = pool.get_connection()\n",
    "    print(\"The third guest is connected\")\n",
    "except:\n",
    "    print(\"Adding new connection in the pool.\")\n",
    "        \n",
    "    # Create a connection\n",
    "    connection=connector.connect(user=\"meta\",password=\"password\")\n",
    "    # Add the connection into the pool\n",
    "    pool.add_connection(cnx=connection)\n",
    "    print(\"A new connection is added in the pool.\\n\")\n",
    "        \n",
    "    connection3 = pool.get_connection()\n",
    "    print(\"'connection3' is added in the pool.\")"
   ]
  },
  {
   "cell_type": "markdown",
   "id": "cb6247e0",
   "metadata": {},
   "source": [
    "### Create a report containing the following:"
   ]
  },
  {
   "cell_type": "markdown",
   "id": "9c50e2b5",
   "metadata": {},
   "source": [
    "The Name and EmployeeID of the Little Lemon Manager.\n",
    "The name and role of the employee who receives the highest salary.\n",
    "The number of guests booked between 18:00 and 20:00.\n",
    "The full name and the BookingId of each guest waiting to be seated \n",
    "with the receptionist in sorted order with respect to their BookingSlot."
   ]
  },
  {
   "cell_type": "code",
   "execution_count": 71,
   "id": "3be52bf9",
   "metadata": {},
   "outputs": [
    {
     "name": "stdout",
     "output_type": "stream",
     "text": [
      "Getting a connection from the pool.\n",
      "Creating a cursor object.\n"
     ]
    }
   ],
   "source": [
    "#obtaining a connection pool and creating a cursor object\n",
    "print(\"Getting a connection from the pool.\")\n",
    "connection1 = pool.get_connection()\n",
    "\n",
    "print(\"Creating a cursor object.\")\n",
    "cursor= connection1.cursor()"
   ]
  },
  {
   "cell_type": "markdown",
   "id": "848577e0",
   "metadata": {},
   "source": [
    "#### The name and EmployeeID of the Little Lemon manager"
   ]
  },
  {
   "cell_type": "code",
   "execution_count": 74,
   "id": "ddc8d61d",
   "metadata": {},
   "outputs": [
    {
     "name": "stdout",
     "output_type": "stream",
     "text": [
      "('Name', 'EmployeeID')\n",
      "('Mario Gollini', 1)\n"
     ]
    }
   ],
   "source": [
    "cursor.execute(\"\"\"SELECT \n",
    "Name, EmployeeID \n",
    "FROM Employees \n",
    "WHERE Role = 'Manager'\"\"\")\n",
    "results=cursor.fetchall()\n",
    "columns=cursor.column_names\n",
    "print(columns)\n",
    "for result in results:\n",
    "    print(result)"
   ]
  },
  {
   "cell_type": "markdown",
   "id": "dcf9de59",
   "metadata": {},
   "source": [
    "#### The name and role of the employee who receives the highest salary.\n"
   ]
  },
  {
   "cell_type": "code",
   "execution_count": 75,
   "id": "8202ea98",
   "metadata": {},
   "outputs": [
    {
     "name": "stdout",
     "output_type": "stream",
     "text": [
      "('Name', 'EmployeeID')\n",
      "('Mario Gollini', 1)\n"
     ]
    }
   ],
   "source": [
    "cursor.execute(\"\"\"SELECT \n",
    "Name, EmployeeID \n",
    "FROM Employees ORDER BY \n",
    "Annual_Salary DESC LIMIT 1\"\"\")\n",
    "results=cursor.fetchall()\n",
    "columns=cursor.column_names\n",
    "print(columns)\n",
    "for result in results:\n",
    "    print(result)"
   ]
  },
  {
   "cell_type": "markdown",
   "id": "7bf01954",
   "metadata": {},
   "source": [
    "#### The number of guests booked between 18:00:00 and 20:00:00.\n"
   ]
  },
  {
   "cell_type": "code",
   "execution_count": 76,
   "id": "15fd12b0",
   "metadata": {},
   "outputs": [
    {
     "name": "stdout",
     "output_type": "stream",
     "text": [
      "('n_booking_between_18_20_hrs',)\n",
      "(6,)\n"
     ]
    }
   ],
   "source": [
    "cursor.execute(\"\"\"SELECT \n",
    "COUNT(BookingID) n_booking_between_18_20_hrs\n",
    "FROM Bookings \n",
    "WHERE BookingSlot BETWEEN '18:00:00' AND '20:00:00';\"\"\")\n",
    "results=cursor.fetchall()\n",
    "columns=cursor.column_names\n",
    "print(columns)\n",
    "for result in results:\n",
    "    print(result)"
   ]
  },
  {
   "cell_type": "markdown",
   "id": "d39e8251",
   "metadata": {},
   "source": [
    "###### The full name and the BookingId of each guest waiting to be seated with the receptionist in sorted order with respect to their BookingSlot."
   ]
  },
  {
   "cell_type": "code",
   "execution_count": 77,
   "id": "de8a4fa3",
   "metadata": {},
   "outputs": [
    {
     "name": "stdout",
     "output_type": "stream",
     "text": [
      "The following guests are waiting to be seated:\n",
      "('ID', 'GuestName', 'Employee')\n",
      "(8, 'Bald Vin', 'Receptionist')\n",
      "(7, 'Anees Java', 'Receptionist')\n"
     ]
    }
   ],
   "source": [
    "cursor.execute(\"\"\"\n",
    "SELECT \n",
    "\n",
    "Bookings.BookingID AS ID,  \n",
    "CONCAT(GuestFirstName,' ',GuestLastName) AS GuestName, \n",
    "\n",
    "Role AS Employee\n",
    "\n",
    "FROM Bookings \n",
    "LEFT JOIN \n",
    "Employees \n",
    "ON Employees.EmployeeID=Bookings.EmployeeID\n",
    "WHERE Employees.Role = \"Receptionist\"\n",
    "ORDER BY BookingSlot DESC;\n",
    "\n",
    "\"\"\")\n",
    "\n",
    "print(\"The following guests are waiting to be seated:\")\n",
    "results=cursor.fetchall()\n",
    "columns=cursor.column_names\n",
    "print(columns)\n",
    "for result in results:\n",
    "    print(result)"
   ]
  },
  {
   "cell_type": "markdown",
   "id": "fd12aeba",
   "metadata": {},
   "source": [
    "#### Create a stored procedure called BasicSalesReport"
   ]
  },
  {
   "cell_type": "code",
   "execution_count": 111,
   "id": "c90a80ce",
   "metadata": {},
   "outputs": [
    {
     "name": "stdout",
     "output_type": "stream",
     "text": [
      "Sales report:\n"
     ]
    }
   ],
   "source": [
    "stored_procedure_query=\"\"\"\n",
    "CREATE PROCEDURE BasicSalesReport()\n",
    "\n",
    "BEGIN\n",
    "SELECT \n",
    "SUM(BillAmount) AS total_sales,\n",
    "AVG(BillAmount) AS average_sale,\n",
    "MIN(BillAmount) AS min_bill_paid,\n",
    "MAX(BillAmount) AS max_bill_paid\n",
    "FROM Orders;\n",
    "END\n",
    "\"\"\"\n",
    "\n",
    "# Execute the query\n",
    "cursor.execute(stored_procedure_query)\n",
    "\n",
    "#Call the stored procedure with its name\n",
    "cursor.callproc(\"BasicSalesReport\")\n",
    "\n",
    "#Fetch records in \"dataset\"\n",
    "results = next(cursor.stored_results())\n",
    "dataset = results.fetchall()\n",
    "\n",
    "#Fetch column names using list comprehension in a 'for' loop\n",
    "for column_id in cursor.stored_results():\n",
    "    columns= [column[0]for column in column_id.description]\n",
    "\n",
    "\n",
    "    \n",
    "print(\"Sales report:\")\n",
    "for result in results:\n",
    "    print(\"\\t\",cols[0],\"\",\"\",result[0])\n",
    "    print(\"\\t\",cols[1],\"\" ,\"\",result[1])\n",
    "    print(\"\\t\",cols[2],\"\", \"\",result[2])\n",
    "    print(\"\\t\",cols[3],\"\",\"\",result[3])"
   ]
  },
  {
   "cell_type": "markdown",
   "id": "e49aec49",
   "metadata": {},
   "source": [
    "#### To display the next three upcoming bookings from the Bookings table "
   ]
  },
  {
   "cell_type": "code",
   "execution_count": 105,
   "id": "65930732",
   "metadata": {},
   "outputs": [
    {
     "name": "stdout",
     "output_type": "stream",
     "text": [
      "\n",
      "BookingSlot 15:00:00\n",
      "\tGuest_name: Vanessa McCarthy\n",
      "\tAssigned to: Giorgos Dioudis [Head Chef]\n",
      "\n",
      "BookingSlot 17:30:00\n",
      "\tGuest_name: Marcos Romero\n",
      "\tAssigned to: Fatma Kaya [Assistant Chef]\n",
      "\n",
      "BookingSlot 18:00:00\n",
      "\tGuest_name: Anees Java\n",
      "\tAssigned to: John Millar [Receptionist]\n"
     ]
    }
   ],
   "source": [
    "#getting a connection pool and creating a buffer\n",
    "connection = pool.get_connection()\n",
    "cursor=connection.cursor(buffered=True)\n",
    "\n",
    "sql_query=\"\"\"SELECT \n",
    "Bookings.BookingSlot,\n",
    "CONCAT(Bookings.GuestFirstName,\" \",Bookings.GuestLastName) AS Guest_Name,\n",
    "Employees.Name AS Emp_Name,\n",
    "Employees.Role AS Emp_Role\n",
    "FROM Bookings \n",
    "INNER JOIN \n",
    "Employees ON Bookings.EmployeeID=Employees.EmployeeID\n",
    "ORDER BY Bookings.BookingSlot ASC;\"\"\"\n",
    "cursor.execute(sql_query)\n",
    "results=cursor.fetchmany(size=3)\n",
    "#print(cursor.column_names)\n",
    "for result in results:\n",
    "    print(\"\\nBookingSlot\",result[0])\n",
    "    print(\"\\tGuest_name:\",result[1])\n",
    "    print(\"\\tAssigned to:\",result[2],\"[{}]\".format(result[3]))\n",
    "    \n",
    "connection.close()"
   ]
  },
  {
   "cell_type": "code",
   "execution_count": null,
   "id": "e3f03c6a",
   "metadata": {},
   "outputs": [],
   "source": []
  }
 ],
 "metadata": {
  "kernelspec": {
   "display_name": "Python 3 (ipykernel)",
   "language": "python",
   "name": "python3"
  },
  "language_info": {
   "codemirror_mode": {
    "name": "ipython",
    "version": 3
   },
   "file_extension": ".py",
   "mimetype": "text/x-python",
   "name": "python",
   "nbconvert_exporter": "python",
   "pygments_lexer": "ipython3",
   "version": "3.11.4"
  }
 },
 "nbformat": 4,
 "nbformat_minor": 5
}
